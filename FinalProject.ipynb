{
 "cells": [
  {
   "cell_type": "code",
   "execution_count": 1,
   "id": "cfcfe856-45b6-47be-8247-f59e44a07283",
   "metadata": {},
   "outputs": [
    {
     "name": "stdout",
     "output_type": "stream",
     "text": [
      "Test\n"
     ]
    }
   ],
   "source": [
    "print(\"Test\")\n",
    "#import numpy as np \n",
    "#import pandas as pd \n",
    "#import matplotlib.pyplot as plt \n",
    "\n",
    "#niconflict = pd.read_csv(r\"C:\\tream\\documents\\fatalities.csv\")\n",
    "#nidemographic = pd.read_csv(r\"C:\\tream\\documents\\nidemographic.csv\")\n",
    "\n",
    "#niconflict"
   ]
  }
 ],
 "metadata": {
  "kernelspec": {
   "display_name": "Python 3",
   "language": "python",
   "name": "python3"
  },
  "language_info": {
   "codemirror_mode": {
    "name": "ipython",
    "version": 3
   },
   "file_extension": ".py",
   "mimetype": "text/x-python",
   "name": "python",
   "nbconvert_exporter": "python",
   "pygments_lexer": "ipython3",
   "version": "3.7.8"
  }
 },
 "nbformat": 4,
 "nbformat_minor": 5
}
